{
 "cells": [
  {
   "cell_type": "code",
   "execution_count": null,
   "metadata": {},
   "outputs": [],
   "source": [
    "185602\n",
    "Ko\n",
    "3 BS ITE"
   ]
  },
  {
   "cell_type": "markdown",
   "metadata": {},
   "source": [
    "## Problem 1: US Dollars to Philippine Peso"
   ]
  },
  {
   "cell_type": "code",
   "execution_count": 3,
   "metadata": {},
   "outputs": [
    {
     "name": "stdout",
     "output_type": "stream",
     "text": [
      "Enter the amount in US Dollars: 10\n",
      "10 US dollar(s) =  500 Philippine Pesos.\n"
     ]
    }
   ],
   "source": [
    "dollar = input('Enter the amount in US Dollars: ')\n",
    "\n",
    "def dollars_to_pesos():\n",
    "    dollars = float(dollar)\n",
    "    pesos = dollars * 50\n",
    "    print(dollar, 'US dollar(s) = ', int(pesos), 'Philippine Pesos.')\n",
    "\n",
    "dollars_to_pesos()"
   ]
  },
  {
   "cell_type": "markdown",
   "metadata": {},
   "source": [
    "## Problem 2: Positive Integers"
   ]
  },
  {
   "cell_type": "code",
   "execution_count": 2,
   "metadata": {},
   "outputs": [
    {
     "name": "stdout",
     "output_type": "stream",
     "text": [
      "What is your first number?55\n",
      "What is your second number?3\n",
      "58\n",
      "52\n",
      "165\n",
      "18\n",
      "1\n"
     ]
    }
   ],
   "source": [
    "a = input('What is your first number?')\n",
    "b = input('What is your second number?')\n",
    "\n",
    "aa = int(a)\n",
    "bb = int(b)\n",
    "\n",
    "print(aa + bb)\n",
    "print(aa - bb)\n",
    "print(aa * bb)\n",
    "print(aa // bb)\n",
    "print(aa % bb)"
   ]
  },
  {
   "cell_type": "markdown",
   "metadata": {},
   "source": [
    "## Problem 3: BMI"
   ]
  },
  {
   "cell_type": "code",
   "execution_count": 14,
   "metadata": {},
   "outputs": [
    {
     "name": "stdout",
     "output_type": "stream",
     "text": [
      "Enter kg: 65\n",
      "Enter cm: 180\n",
      "BMI:  20.061728395061728\n"
     ]
    }
   ],
   "source": [
    "def convert_cm_to_m():\n",
    "    m = cm / 100\n",
    "    return m\n",
    "\n",
    "def compute_bmi():\n",
    "    compute_bmi = kg / (m)**2\n",
    "    return compute_bmi\n",
    "\n",
    "kg = float(input('Enter kg: '))\n",
    "cm = float(input('Enter cm: '))\n",
    "\n",
    "m = convert_cm_to_m()\n",
    "\n",
    "bmi = compute_bmi()\n",
    "\n",
    "print(\"BMI: \", bmi)"
   ]
  }
 ],
 "metadata": {
  "kernelspec": {
   "display_name": "Python 3",
   "language": "python",
   "name": "python3"
  },
  "language_info": {
   "codemirror_mode": {
    "name": "ipython",
    "version": 3
   },
   "file_extension": ".py",
   "mimetype": "text/x-python",
   "name": "python",
   "nbconvert_exporter": "python",
   "pygments_lexer": "ipython3",
   "version": "3.8.3"
  }
 },
 "nbformat": 4,
 "nbformat_minor": 4
}
